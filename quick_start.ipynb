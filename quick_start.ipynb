{
 "cells": [
  {
   "cell_type": "markdown",
   "metadata": {},
   "source": [
    "# 快速入门\n",
    "\n",
    "本教程中我们将提供一个快速上手`mindcv`的指南。\n",
    "\n",
    "本教程将以DenseNet分类模型为例，实现对Cifar10数据集的迁移学习，并在此流程中对MindCV各模块的用法作讲解。\n",
    "\n"
   ]
  },
  {
   "cell_type": "markdown",
   "metadata": {},
   "source": [
    "## 环境准备"
   ]
  },
  {
   "cell_type": "markdown",
   "metadata": {},
   "source": [
    "### 安装MindCV"
   ]
  },
  {
   "cell_type": "code",
   "execution_count": 1,
   "metadata": {},
   "outputs": [
    {
     "name": "stdout",
     "output_type": "stream",
     "text": [
      "Looking in indexes: http://mirrors.aliyun.com/pypi/simple\n",
      "Collecting git+https://github.com/mindlab-ai/mindcv.git\n",
      "  Cloning https://github.com/mindlab-ai/mindcv.git to /tmp/pip-req-build-2t1sum4n\n",
      "  Running command git clone --filter=blob:none --quiet https://github.com/mindlab-ai/mindcv.git /tmp/pip-req-build-2t1sum4n\n",
      "  Resolved https://github.com/mindlab-ai/mindcv.git to commit 81fa3df8a7292c03b2a69b1456dadcfbe7ae9b9c\n",
      "  Preparing metadata (setup.py) ... \u001b[?25ldone\n",
      "\u001b[?25hRequirement already satisfied: numpy>=1.17.0 in /opt/conda/envs/xgraph/lib/python3.8/site-packages (from mindcv==0.0.1) (1.22.4)\n",
      "Requirement already satisfied: PyYAML>=5.3 in /opt/conda/envs/xgraph/lib/python3.8/site-packages (from mindcv==0.0.1) (5.4)\n",
      "Requirement already satisfied: tqdm in /opt/conda/envs/xgraph/lib/python3.8/site-packages (from mindcv==0.0.1) (4.59.0)\n",
      "\u001b[33mWARNING: Running pip as the 'root' user can result in broken permissions and conflicting behaviour with the system package manager. It is recommended to use a virtual environment instead: https://pip.pypa.io/warnings/venv\u001b[0m\u001b[33m\n",
      "\u001b[0m"
     ]
    }
   ],
   "source": [
    "# instal mindcv from git repo\n",
    "!pip install git+https://github.com/mindlab-ai/mindcv.git"
   ]
  },
  {
   "cell_type": "markdown",
   "metadata": {},
   "source": [
    "> 以下教程假设依赖包均已安装，若遇到依赖问题，请按照Git repo上的[安装指南](https://github.com/mindlab-ai/mindcv#dependency)进行安装"
   ]
  },
  {
   "cell_type": "markdown",
   "metadata": {},
   "source": [
    "## 数据集读取"
   ]
  },
  {
   "cell_type": "markdown",
   "metadata": {},
   "source": [
    "通过`mindcv.data`中的`create_dataset`模块，我们可快速地读取标准数据集或自定义的数据集。"
   ]
  },
  {
   "cell_type": "code",
   "execution_count": 2,
   "metadata": {},
   "outputs": [],
   "source": [
    "from mindcv.data import create_dataset, create_transforms, create_loader\n",
    "import os\n",
    "\n",
    "# 数据集路径\n",
    "cifar10_dir = './datasets/cifar/cifar-10-batches-bin' # 你的数据存放路径\n",
    "num_classes = 10 # 类别数\n",
    "num_workers = 8 # 数据读取及加载的工作线程数 \n",
    "download = not os.path.exists(cifar10_dir)\n",
    "\n",
    "# 创建数据集\n",
    "dataset_train = create_dataset(name='cifar10', root=cifar10_dir, split='train', shuffle=True, num_parallel_workers=num_workers, download=download)"
   ]
  },
  {
   "cell_type": "markdown",
   "metadata": {},
   "source": [
    "`create_dataset`参数说明:\n",
    "\n",
    "- name: 数据集名称\n",
    "\n",
    "- dataset_dir: 包含数据集文件的根目录路径。\n",
    "\n",
    "- split: 读取数据集的训练集（\"train\"）或验证集（\"val\"）。默认值：\"train\"。\n",
    "\n",
    "- shuffle: 是否混洗数据集。默认值：None。\n",
    "\n",
    "- num_parallel_workers: 指定读取数据的工作线程数。默认值：None。\n",
    "\n",
    "- download: 是否下载数据集。默认值：False。\n"
   ]
  },
  {
   "cell_type": "markdown",
   "metadata": {},
   "source": [
    "## 数据处理及加载\n",
    "1. 通过`create_transforms`函数, 可直接得到标准数据集合适的数据处理增强策略(transform list)，包括Cifar10, imagenet上常用的数据处理策略。"
   ]
  },
  {
   "cell_type": "code",
   "execution_count": 3,
   "metadata": {},
   "outputs": [],
   "source": [
    "# 创建所需的数据增强操作的列表\n",
    "trans = create_transforms(dataset_name='cifar10', image_resize=224)"
   ]
  },
  {
   "cell_type": "markdown",
   "metadata": {},
   "source": [
    "`create_transforms`参数说明:\n",
    "\n",
    "- name: 数据集名称\n",
    "\n",
    "- dataset_dir: 包含数据集文件的根目录路径。\n",
    "\n",
    "- split: 读取数据集的训练集（\"train\"）或验证集（\"val\"）。默认值：\"train\"。\n",
    "\n",
    "- shuffle: 是否混洗数据集。默认值：None。\n",
    "\n",
    "- num_parallel_workers: 指定读取数据的工作线程数。默认值：None。\n",
    "\n",
    "- download: 是否下载数据集。默认值：False。\n",
    "\n",
    "2. 通过`mindcv.data.create_loader`函数，进行数据转换和batch切分加载，我们需要将`create_transform`返回的transform_list传入。"
   ]
  },
  {
   "cell_type": "code",
   "execution_count": 4,
   "metadata": {},
   "outputs": [],
   "source": [
    "# 执行数据增强操作，生成所需数据集。\n",
    "loader_train = create_loader(dataset=dataset_train,\n",
    "                             batch_size=64,\n",
    "                             is_training=True,\n",
    "                             num_classes=num_classes,\n",
    "                             transform=trans,\n",
    "                             num_parallel_workers=num_workers)\n",
    "\n",
    "num_batches = loader_train.get_dataset_size()"
   ]
  },
  {
   "cell_type": "markdown",
   "metadata": {},
   "source": [
    "`create_loader`参数说明:\n",
    "\n",
    "- dataset: 通过标准数据集接口（mindspore.dataset.Cifar10Dataset，mindspore.dataset.CocoDataset）或者自定义数据集接口（mindspore.dataset.GeneratorDataset）加载过的数据集。\n",
    "\n",
    "- batch_size: 指定每个批处理数据包含的数据条目。\n",
    "\n",
    "- is_training: 读取数据集的训练集（True）或验证集（False）。默认值：False。\n",
    "\n",
    "- num_classes: 分类的类别数。默认值：1000。\n",
    "    \n",
    "- transform: 所需的数据增强操作的列表。默认值：None。\n",
    "\n",
    "- num_parallel_workers: 指定读取数据的工作线程数。默认值：None。\n"
   ]
  },
  {
   "cell_type": "markdown",
   "metadata": {},
   "source": [
    "> 在notebook中避免重复执行`create_loader`单个Cell，或在执行`create_dataset`之后再次执行"
   ]
  },
  {
   "cell_type": "markdown",
   "metadata": {},
   "source": [
    "## 模型创建和加载\n",
    "\n",
    "使用`create_model`接口获得实例化的DenseNet，并加载预训练权重densenet_121_imagenet2012.ckpt（ImageNet数据集训练得到）。\n",
    "\n"
   ]
  },
  {
   "cell_type": "code",
   "execution_count": 5,
   "metadata": {},
   "outputs": [
    {
     "name": "stderr",
     "output_type": "stream",
     "text": [
      "[WARNING] ME(57165:140402355906368,MainProcess):2022-09-22-09:08:11.784.095 [mindspore/train/serialization.py:709] For 'load_param_into_net', 2 parameters in the 'net' are not loaded, because they are not in the 'parameter_dict', please check whether the network structure is consistent when training and loading checkpoint.\n",
      "[WARNING] ME(57165:140402355906368,MainProcess):2022-09-22-09:08:11.785.187 [mindspore/train/serialization.py:714] classifier.weight is not loaded.\n",
      "[WARNING] ME(57165:140402355906368,MainProcess):2022-09-22-09:08:11.785.831 [mindspore/train/serialization.py:714] classifier.bias is not loaded.\n"
     ]
    }
   ],
   "source": [
    "from mindcv.models import create_model\n",
    "\n",
    "# 实例化 DenseNet-121 模型并加载预训练权重。\n",
    "network = create_model(model_name='densenet121', num_classes=num_classes, pretrained=True)"
   ]
  },
  {
   "cell_type": "markdown",
   "metadata": {},
   "source": [
    "> 由于Cifar10和ImageNet数据集所需类别数量不同，分类器参数无法共享，出现分类器参数无法加载的告警不影响微调。"
   ]
  },
  {
   "cell_type": "markdown",
   "metadata": {},
   "source": [
    "`create_model`参数说明:\n",
    "\n",
    "- model_name: 需要加载的模型的规格的名称。\n",
    "\n",
    "- num_classes: 分类的类别数。默认值：1000。\n",
    "\n",
    "- pretrained: 是否加载与训练权重。默认值：False。\n",
    "\n",
    "使用`mindcv.loss.create_loss`接口创建损失函数（cross_entropy loss）。"
   ]
  },
  {
   "cell_type": "markdown",
   "metadata": {},
   "source": [
    "## 模型训练"
   ]
  },
  {
   "cell_type": "markdown",
   "metadata": {},
   "source": [
    "通过`create_loss`接口获得损失函数"
   ]
  },
  {
   "cell_type": "code",
   "execution_count": 6,
   "metadata": {},
   "outputs": [],
   "source": [
    "from mindcv.loss import create_loss\n",
    "\n",
    "loss = create_loss(name='CE')"
   ]
  },
  {
   "cell_type": "markdown",
   "metadata": {},
   "source": [
    "使用`create_scheduler`接口设置学习率策略（warmup_consine_decay）。"
   ]
  },
  {
   "cell_type": "code",
   "execution_count": 8,
   "metadata": {
    "scrolled": true
   },
   "outputs": [],
   "source": [
    "from mindcv.scheduler import create_scheduler\n",
    "\n",
    "# 设置学习率策略\n",
    "lr_scheduler = create_scheduler(steps_per_epoch=num_batches,\n",
    "                                scheduler='constant',\n",
    "                                lr=0.0001)"
   ]
  },
  {
   "cell_type": "markdown",
   "metadata": {},
   "source": [
    "参数说明:\n",
    "\n",
    "- steps_pre_epoch: 完成一轮训练所需要的步数。\n",
    "\n",
    "- scheduler: 学习率策略的名称。\n",
    "\n",
    "- lr: 学习率。\n",
    "\n",
    "- min_lr: decay时学习率的最小值。\n",
    "\n",
    "使用`create_optimizer`接口创建优化器。"
   ]
  },
  {
   "cell_type": "code",
   "execution_count": 9,
   "metadata": {},
   "outputs": [],
   "source": [
    "from mindcv.optim import create_optimizer\n",
    "\n",
    "# 设置优化器\n",
    "opt = create_optimizer(network.trainable_params(), opt='adam', lr=lr_scheduler) "
   ]
  },
  {
   "cell_type": "markdown",
   "metadata": {},
   "source": [
    "参数说明:\n",
    "\n",
    "- params: 需要优化的参数的列表。\n",
    "\n",
    "- scheduler: 学习了策略的名称。\n",
    "\n",
    "- lr: 学习率的最大值。\n",
    "\n",
    "- min_lr: 学习率的最小值。\n"
   ]
  },
  {
   "cell_type": "markdown",
   "metadata": {},
   "source": [
    "使用[mindspore.Model](https://mindspore.cn/docs/zh-CN/r1.8/api_python/mindspore/mindspore.Model.html)接口根据用户传入的参数封装可训练的实例。"
   ]
  },
  {
   "cell_type": "code",
   "execution_count": 10,
   "metadata": {},
   "outputs": [],
   "source": [
    "from mindspore import Model\n",
    "\n",
    "# 封装可训练或推理的实例\n",
    "model = Model(network, loss_fn=loss, optimizer=opt, metrics={'accuracy'})"
   ]
  },
  {
   "cell_type": "markdown",
   "metadata": {},
   "source": [
    "使用[`mindspore.Model.train`](https://mindspore.cn/docs/zh-CN/r1.8/api_python/mindspore/mindspore.Model.html#mindspore.Model.train)接口进行模型训练。"
   ]
  },
  {
   "cell_type": "code",
   "execution_count": 11,
   "metadata": {
    "collapsed": true,
    "jupyter": {
     "outputs_hidden": true
    }
   },
   "outputs": [
    {
     "name": "stdout",
     "output_type": "stream",
     "text": [
      "epoch: 1 step: 156, loss is 0.36890333890914917\n",
      "epoch: 1 step: 312, loss is 0.2963641285896301\n",
      "epoch: 1 step: 468, loss is 0.08654475212097168\n",
      "epoch: 1 step: 624, loss is 0.1908271610736847\n",
      "epoch: 1 step: 780, loss is 0.1770080029964447\n",
      "Train epoch time: 262146.330 ms, per step time: 335.225 ms\n",
      "epoch: 2 step: 154, loss is 0.04639885947108269\n",
      "epoch: 2 step: 310, loss is 0.12687519192695618\n",
      "epoch: 2 step: 466, loss is 0.03369298204779625\n",
      "epoch: 2 step: 622, loss is 0.12257681041955948\n",
      "epoch: 2 step: 778, loss is 0.13823091983795166\n",
      "Train epoch time: 237231.079 ms, per step time: 303.365 ms\n",
      "epoch: 3 step: 152, loss is 0.03291231021285057\n",
      "epoch: 3 step: 308, loss is 0.04826178774237633\n",
      "epoch: 3 step: 464, loss is 0.06561325490474701\n",
      "epoch: 3 step: 620, loss is 0.028005748987197876\n",
      "epoch: 3 step: 776, loss is 0.14322009682655334\n",
      "Train epoch time: 240640.121 ms, per step time: 307.724 ms\n",
      "epoch: 4 step: 150, loss is 0.04635673016309738\n",
      "epoch: 4 step: 306, loss is 0.006769780069589615\n",
      "epoch: 4 step: 462, loss is 0.07550926506519318\n",
      "epoch: 4 step: 618, loss is 0.007201619446277618\n",
      "epoch: 4 step: 774, loss is 0.02128467708826065\n",
      "Train epoch time: 244391.659 ms, per step time: 312.521 ms\n",
      "epoch: 5 step: 148, loss is 0.00641212984919548\n",
      "epoch: 5 step: 304, loss is 0.013159077614545822\n",
      "epoch: 5 step: 460, loss is 0.021671295166015625\n",
      "epoch: 5 step: 616, loss is 0.01827814429998398\n",
      "epoch: 5 step: 772, loss is 0.008501190692186356\n",
      "Train epoch time: 240139.144 ms, per step time: 307.083 ms\n"
     ]
    }
   ],
   "source": [
    "from mindspore import LossMonitor, TimeMonitor, CheckpointConfig, ModelCheckpoint\n",
    "\n",
    "# 设置在训练过程中保存网络参数的回调函数\n",
    "ckpt_save_dir = './ckpt' \n",
    "ckpt_config = CheckpointConfig(save_checkpoint_steps=num_batches)\n",
    "ckpt_cb = ModelCheckpoint(prefix='densenet121-cifar10',\n",
    "                          directory=ckpt_save_dir,\n",
    "                          config=ckpt_config)\n",
    "\n",
    "model.train(5, loader_train, callbacks=[LossMonitor(num_batches//5), TimeMonitor(num_batches//5), ckpt_cb], dataset_sink_mode=False)"
   ]
  },
  {
   "cell_type": "code",
   "execution_count": 13,
   "metadata": {},
   "outputs": [],
   "source": [
    "# 加载验证数据集\n",
    "dataset_val = create_dataset(name='cifar10', root=cifar10_dir, split='test', shuffle=True, num_parallel_workers=num_workers, download=download)\n",
    "\n",
    "# 执行数据增强操作，生成所需数据集。\n",
    "loader_val = create_loader(dataset=dataset_val,\n",
    "                           batch_size=64,\n",
    "                           is_training=False,\n",
    "                           num_classes=num_classes,\n",
    "                           transform=trans,\n",
    "                           num_parallel_workers=num_workers)"
   ]
  },
  {
   "cell_type": "markdown",
   "metadata": {},
   "source": [
    "加载微调后的参数文件（densenet-cifar10-10_782.ckpt）到模型。"
   ]
  },
  {
   "cell_type": "markdown",
   "metadata": {},
   "source": [
    "根据用户传入的参数封装可推理的实例，加载验证数据集，验证微调的 DenseNet121模型精度。"
   ]
  },
  {
   "cell_type": "code",
   "execution_count": 14,
   "metadata": {},
   "outputs": [
    {
     "name": "stdout",
     "output_type": "stream",
     "text": [
      "{'accuracy': 0.9577}\n"
     ]
    }
   ],
   "source": [
    "# 验证微调后的DenseNet-121的精度\n",
    "acc = model.eval(loader_val, dataset_sink_mode=False)\n",
    "print(acc)"
   ]
  },
  {
   "cell_type": "markdown",
   "metadata": {},
   "source": [
    "## 使用YAML文件进行模型训练和验证\n",
    "\n",
    "我们还可以直接使用设置好模型参数的yaml文件，通过`train.py`和`validate.py`脚本来快速来对模型进行训练和验证。以下是在ImageNet上训练SqueezenetV1的示例 （需要将imagenet提前下载到目录下）\n",
    "\n",
    "> 详细教程请参考 [使用yaml文件的教程](./learn_about_config.ipynb)\n",
    "\n"
   ]
  },
  {
   "cell_type": "code",
   "execution_count": null,
   "metadata": {},
   "outputs": [],
   "source": [
    "!git clone https://github.com/mindlab-ai/mindcv.git\n",
    "!cd mindcv"
   ]
  },
  {
   "cell_type": "code",
   "execution_count": null,
   "metadata": {},
   "outputs": [],
   "source": [
    "!python train.py -c configs/squeezenet/squeezenet_1.0_gpu.yaml "
   ]
  },
  {
   "cell_type": "code",
   "execution_count": null,
   "metadata": {},
   "outputs": [],
   "source": [
    "!python validate.py -c configs/squeezenet/squeezenet_1.0_gpu.yaml "
   ]
  }
 ],
 "metadata": {
  "kernelspec": {
   "display_name": "xgraph",
   "language": "python",
   "name": "xgraph"
  },
  "language_info": {
   "codemirror_mode": {
    "name": "ipython",
    "version": 3
   },
   "file_extension": ".py",
   "mimetype": "text/x-python",
   "name": "python",
   "nbconvert_exporter": "python",
   "pygments_lexer": "ipython3",
   "version": "3.8.8"
  }
 },
 "nbformat": 4,
 "nbformat_minor": 5
}
